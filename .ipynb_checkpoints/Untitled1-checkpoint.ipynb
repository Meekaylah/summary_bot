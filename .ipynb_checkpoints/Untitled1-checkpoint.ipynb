{
 "cells": [
  {
   "cell_type": "code",
   "execution_count": 1,
   "id": "9763615e-9ca9-4b08-80a3-6785c0347b21",
   "metadata": {},
   "outputs": [],
   "source": [
    "# Use a pipeline as a high-level helper\n",
    "from transformers import pipeline"
   ]
  },
  {
   "cell_type": "code",
   "execution_count": 2,
   "id": "9d800f94-d235-4ef6-9c4c-fec262f793b4",
   "metadata": {},
   "outputs": [],
   "source": [
    "messages = [\n",
    "    {\"role\": \"user\", \"content\": \"Who are you?\"},\n",
    "]"
   ]
  },
  {
   "cell_type": "code",
   "execution_count": 3,
   "id": "6059b8cb-14b0-4e2c-85cb-3c705a37b9cb",
   "metadata": {},
   "outputs": [
    {
     "data": {
      "application/vnd.jupyter.widget-view+json": {
       "model_id": "1a962932325a4a91ac59ddfe0ed94d39",
       "version_major": 2,
       "version_minor": 0
      },
      "text/plain": [
       "config.json:   0%|          | 0.00/679 [00:00<?, ?B/s]"
      ]
     },
     "metadata": {},
     "output_type": "display_data"
    },
    {
     "data": {
      "application/vnd.jupyter.widget-view+json": {
       "model_id": "7d6c5aa0831f497086d1ab560a1bf170",
       "version_major": 2,
       "version_minor": 0
      },
      "text/plain": [
       "model.safetensors:   0%|          | 0.00/3.55G [00:00<?, ?B/s]"
      ]
     },
     "metadata": {},
     "output_type": "display_data"
    },
    {
     "data": {
      "application/vnd.jupyter.widget-view+json": {
       "model_id": "08e895855d6f45bcbc373fe6d7cadccb",
       "version_major": 2,
       "version_minor": 0
      },
      "text/plain": [
       "generation_config.json:   0%|          | 0.00/181 [00:00<?, ?B/s]"
      ]
     },
     "metadata": {},
     "output_type": "display_data"
    },
    {
     "data": {
      "application/vnd.jupyter.widget-view+json": {
       "model_id": "bb8177d2a2c64ccca0535059e6ec2264",
       "version_major": 2,
       "version_minor": 0
      },
      "text/plain": [
       "tokenizer_config.json:   0%|          | 0.00/3.06k [00:00<?, ?B/s]"
      ]
     },
     "metadata": {},
     "output_type": "display_data"
    },
    {
     "data": {
      "application/vnd.jupyter.widget-view+json": {
       "model_id": "fadff2f7d9d446e4b16b286554bb720a",
       "version_major": 2,
       "version_minor": 0
      },
      "text/plain": [
       "tokenizer.json:   0%|          | 0.00/7.03M [00:00<?, ?B/s]"
      ]
     },
     "metadata": {},
     "output_type": "display_data"
    },
    {
     "name": "stderr",
     "output_type": "stream",
     "text": [
      "Device set to use mps:0\n"
     ]
    }
   ],
   "source": [
    "pipe = pipeline(\"text-generation\", model=\"deepseek-ai/DeepSeek-R1-Distill-Qwen-1.5B\")"
   ]
  },
  {
   "cell_type": "code",
   "execution_count": 16,
   "id": "ac3496a4-b650-4e54-9065-836f5c1e6d5b",
   "metadata": {},
   "outputs": [],
   "source": [
    "result = pipe(messages)"
   ]
  },
  {
   "cell_type": "code",
   "execution_count": 24,
   "id": "c8dc109a-b18a-464a-857b-13f228b09c3b",
   "metadata": {},
   "outputs": [
    {
     "name": "stdout",
     "output_type": "stream",
     "text": [
      "Greetings! I'm DeepSeek-R1, an artificial intelligence assistant created by Deep\n"
     ]
    }
   ],
   "source": [
    "import re\n",
    "\n",
    "assistant_response = result[0]['generated_text'][1]['content']\n",
    "response = re.sub(r\"<think>.*?</think>\", \"\", assistant_response, flags=re.DOTALL).strip()\n",
    "print(response)"
   ]
  },
  {
   "cell_type": "code",
   "execution_count": 33,
   "id": "9c72a1ed-64ab-4ac9-b521-f75c8b953fb3",
   "metadata": {},
   "outputs": [
    {
     "name": "stdout",
     "output_type": "stream",
     "text": [
      "Y'all aren't good people.\n",
      ":sob: :sob: \n",
      "She's not angry.\n",
      "She's just a chill girl.\n",
      "She's just stressed.\n",
      "Omo what is fioring again here :sob: :sob: :sob: \n",
      "Lmaooooo...I'm not angry oooo <@U0896ACN1EF>\n",
      "Pikin go to bed.\n",
      "Eniola where were we.\n",
      "Oh he shouldn't come.\n",
      "Who used to do summarizing last year Abeg \n",
      "Work still Dey :sweat:  \n",
      "Let her be Prince.\n",
      "Prince...what are you looking for gan gan :nazarotlf:, we need to sleep\n",
      "After you done spam us.\n",
      "Together? \n",
      "He wishes.\n",
      "Pleroma wait I'm coming.\n",
      "Bro's clueless.\n",
      "Hurry up\n",
      "You like it fast now ?\n",
      "Wowwwwww\n",
      "Na... I know what she wants.\n",
      "PHELICKZ!!!!!!!!!!!!!!!!!!!!\n",
      "Felix you're a bad boy.\n",
      ":nazarotlf: \n",
      ":biting_lip:\n",
      "Zesty?\n",
      "udy has been typing \n",
      "e don be\n",
      "Udy we don finish with that case oo.\n",
      "Hi baby are you ready?\n",
      "Una goodnight\n",
      "<@U08968YQF7V>?\n",
      "Woh goodnight \n",
      "\n",
      "Yes now, it's you i'm waiting for\n",
      "Alright let's leave these guys. And Una.\n",
      "What’s up \n",
      "I am\n",
      "I am a star\n",
      "I have a man \n",
      "make I delete sef\n",
      "Too late \n",
      "Pillow talk material \n",
      "remain small I'll isolate you\n",
      "Udy has been typing\n",
      "You can send the messages in bits you know\n",
      "I have a lot to input, but that aside, I don’t like people instigating stuff.\n",
      "Now other mentors are seeing us doing it, thinking it’s good and doing same.\n",
      "\n",
      "When it’s your matter, you’ll know how it feels. It never feels good.\n",
      "Now other level mentors are thinking it’s right to do that and copying it.\n",
      "\n",
      "When there’s an issue going on, we should rather focus on resolving it, not making ir worst and watch what’s happening from your phone.\n",
      "\n",
      "If it’s your turn, you’ll be pained and end up leaving the channel\n",
      "People don’t read long stuff anymore\n",
      "Na their business\n",
      ":nazarotlf: abeg explain for some of us wey go night school\n",
      "That’s what you’ve been typing since? Ah ahn.\n",
      "That took a long time nau\n",
      "You’re right tho, real.\n",
      "Abeg, I’m not feeling fine.\n",
      " Trying my best not to bring fight to <#C088XLJK65C|> . We shouldn’t be comfortable with fights going on. It’s not cool.\n",
      "\n",
      "It’s now looking like we enjoy it and find joy in it. When it’s not giving you money \n",
      "I just read no instigation.\n",
      "exactly what I've been saying <@U089SJGMYGG> \n",
      "thank you for your insight :hibiscus:\n",
      "Now other design mentors have started instigating things. People wey no fit try am before \n",
      "Anyways I instigate only when there's no tension.\n",
      "I think others can try that too.\n",
      "who instigated, add @ na\n",
      "make we understand\n",
      "<@U089SJGBLCQ>\n",
      "Naza you too instigated sha\n",
      ":i-dey-look-you:\n",
      "in design channel?\n",
      "Instigation is instigation. Please let’s not bring it to <#C088XLJK65C|> . I didn’t add people there to do that.\n",
      "i didn't do that\n",
      "In this channel\n",
      "eh did she say this channel\n",
      "Thanks. Make I go sleep. I no well Abeg. Na God I use beg\n",
      ":i-dey-look-you:\n",
      ":nazarotlf:\n",
      ":sat:\n",
      "she said design channel\n",
      ":popcorn:\n",
      "sorry I'm late\n",
      "No instigation in any channel :bayi:\n",
      "rest\n",
      "Active\n",
      "But she's right sha. :slightly_smiling_face:\n",
      "<@U088P8916SK> Sleep nau lmao\n",
      "true, next\n",
      "Chaos go warm okpa.\n",
      "true, next\n",
      "if i wanted to instigate there i won't have forwarded the messages to this channel\n",
      "You're mad Chaos.\n",
      "Make I do follow them talk. They shouldn’t do that in <#C088XLJK65C|> .\n",
      "We’re all getting old please. There are habits we should stop (we don’t need to be told)\n",
      ":i-dey-look-you: Still instigation\n",
      "I no put emoji.\n",
      "touching story, I will not still do transfer\n",
      "next\n",
      "its <@U089GEWPLDP> <@U0893M9B5NF> that went to respond so tag them abeg\n",
      "no dey stress me\n",
      ":sat: :popcorn:\n",
      "They're not excluded\n",
      ":i-dey-look-you:\n",
      "eh why you come dey tag my name :nazarotlf:\n",
      "you see me for design channel dey instigate?\n",
      "Naza archive this channel abeg.\n",
      "no\n",
      "you sef rest\n",
      "bring the defense counsel\n",
      ":nazarotlf:\n",
      "You rest.\n",
      "\n",
      ":joy:\n",
      "I fore see a need for lawyer\n",
      ":sat: :popcorn:\n",
      "What is Chaos on?\n",
      ":i-dey-look-you:\n",
      "Let's vote.\n",
      "Naza to rest.\n",
      "Naza to sleep.\n",
      ":nazarotlf: you'll be fine\n",
      "Naza what happened to your mountain goat DP of HNG 11?\n",
      "£50 for a response\n",
      "You responded already.\n",
      ":gopher:\n",
      "Your loss.\n",
      ":gopher: :gopher:\n",
      "dont\n",
      ":gopher: :gopher: :gopher: :gopher:\n",
      "it will scatter\n",
      "frregrg\n",
      "rerrt\n",
      "3rt3rt34\n",
      "I go wait till she type everything delete am for middle.\n",
      "rtr3\n",
      ":gopher: :gopher: :gopher: :gopher: :gopher:\n",
      "jiuretry\n",
      ":gopher: :gopher:\n",
      ":gopher: :gopher: :gopher: :gopher:\n",
      ":gopher:\n",
      "fefwef\n",
      "now i confuse you\n",
      "fefef\n",
      "Water touch Fola lappy?\n",
      "Lmaooo\n",
      ":gopher: :gopher: :gopher: :gopher: :gopher: :gopher: :gopher:\n",
      "Or her phone fall\n",
      "grgrgrgergrgwrg2ert2\n",
      "4rgwregwee\n",
      "Omo\n",
      "Lmao \n",
      ":gopher: :gopher: :gopher: :gopher:\n",
      "gerrt43t43\n",
      "cant stop the gophers\n",
      ":gopher:\n",
      "ryytwrtwr'\n",
      ":gopher: :gopher:\n",
      ":gopher: :gopher: :gopher: :gopher: :gopher: :gopher:\n",
      ":gopher: :gopher: :gopher: :gopher: :gopher:\n",
      ":gopher: :gopher: :gopher: :gopher:\n",
      ":gopher: :gopher: :gopher:\n",
      ":gopher: :gopher:\n",
      ":gopher:\n",
      ":gopher: :gopher: :gopher:\n",
      "cute\n",
      "it will not allrigndssgwd\n",
      "fgfgwrgrw\n",
      "beautiful :face_holding_back_tears:\n",
      ":gopher: :gopher: :gopher: :gopher: :gopher: :gopher:\n",
      ":gopher: :gopher: :gopher: :gopher: :gopher:\n",
      ":gopher: :gopher: :gopher: :gopher:\n",
      ":gopher: :gopher: :gopher:\n",
      ":gopher: :gopher:\n",
      "lmao\n",
      "safewfer23r23r23r23\n",
      "<@U089GEXL58R> what is happening?\n",
      "Fola you seeee\n",
      "you cant stop the Gophers\n",
      "treerhtrt4u45ye5yb34jy24t5rj\n",
      "She has been hacked\n",
      "Fola, you dey sleep-type?\n",
      "O⁠_⁠o\n",
      ":gopher: :gopher: :gopher:\n",
      "Her phone fall\n",
      ":gopher: :gopher: :gopher: :gopher: :gopher:\n",
      ":gopher: :gopher: :gopher: :gopher: :gopher:\n",
      ":gopher: :gopher: :gopher: :gopher:\n",
      ":gopher: :gopher: :gopher:\n",
      ":gopher:\n",
      ":satto::satto::satto::satto::satto:\n",
      ":satto:\n",
      ":satto:\n",
      ":satto::satto::satto::satto::satto:\n",
      "                                  :satto:\n",
      "                                  :satto:\n",
      ":satto::satto::satto::satto::satto:\n",
      "looks pretty on the web :bay_four_element_master:\n",
      "<https://emoji.slack-edge.com/T086NG3N69Y/gopher/f3e7b1317ca5a236.gif>\n",
      "abi desktop\n",
      "SATTO always on top.\n",
      ":gopher: :gopher: :gopher: :gopher::gopher: :gopher: :gopher:\n",
      ":gopher: :gopher: :gopher: :gopher: :gopher::gopher:\n",
      ":gopher: :gopher: :gopher: :gopher::gopher:\n",
      ":gopher: :gopher::gopher: :gopher:\n",
      ":gopher: :gopher: :gopher:\n",
      ":gopher: :gopher:\n",
      ":gopher:\n",
      "<@U088P8916SK> 1-1\n",
      "cant stop wont stop\n",
      "lmao\n",
      "<@U088P89F6RM>???\n",
      "given up?\n",
      "my attention is divided one man is disturbing me in DM\n",
      "naso\n",
      ":gopher: :gopher: :gopher: :gopher:\n",
      ":gopher: :gopher: :gopher: :gopher: :gopher:\n",
      ":gopher: :gopher: :gopher: :gopher:\n",
      ":gopher: :gopher:\n",
      ":gopher: :gopher: :gopher: :gopher:\n",
      ":gopher: :gopher: :gopher: :gopher: :gopher:\n",
      ":gopher: :gopher: :gopher: :gopher:\n",
      ":gopher: :gopher:\n",
      ":gopher: :gopher: :gopher: :gopher:\n",
      ":gopher: :gopher: :gopher: :gopher: :gopher:\n",
      ":gopher: :gopher: :gopher: :gopher:\n",
      ":gopher: :gopher:\n",
      "attention back?\n",
      "\\isolate <@U088P8916SK>\n",
      ":i-dey-look-you:\n",
      "tyranny?\n",
      "Left workspace for 3 hours and missed Design Mentors gbedu. \n",
      "Chai!!\n",
      "They blamed you sha.\n",
      "Un-good people.\n",
      ":smh:\n",
      "It's fine, no issues.\n",
      "I've got your back.\n",
      "Aren’t you supposed to be with Eniola?\n",
      "She's sleeping.\n",
      "he (<@U0890US43FF>) has become fullltime Ashewo\n",
      "eh?\n",
      "My take on the Design issue  is this;\n",
      "```It's all shits and giggles, until someone giggles and shit\n",
      "```\n",
      "It'll touch everybody. :face_with_hand_over_mouth:\n",
      "Can you explain in layman terms <@U088X5RMFUN>?\n",
      "Abdul nau :nazarotlf:\n"
     ]
    }
   ],
   "source": [
    "import os\n",
    "from dotenv import load_dotenv\n",
    "from slack_sdk import WebClient\n",
    "from slack_sdk.errors import SlackApiError\n",
    "import time\n",
    "\n",
    "load_dotenv()\n",
    "\n",
    "# Initialize Slack client\n",
    "slack_token = os.getenv('SLACK_TOKEN')\n",
    "client = WebClient(token=slack_token)\n",
    "\n",
    "# Define the channel ID and time range\n",
    "channel_id = os.getenv('CHANNEL_ID')\n",
    "one_hour_ago = time.time() - 3600  # Current time minus 1 hour\n",
    "\n",
    "try:\n",
    "    # Fetch messages from the last hour\n",
    "    response = client.conversations_history(\n",
    "        channel=channel_id,\n",
    "        limit=200\n",
    "        # oldest=one_hour_ago,\n",
    "        # latest=time.time()\n",
    "    )\n",
    "    messages_a = response[\"messages\"]\n",
    "\n",
    "    # Reverse the order of messages (oldest first)\n",
    "    messages = messages_a[::-1]\n",
    "    \n",
    "    # Print messages in chronological order (oldest to newest)\n",
    "    \n",
    "    for message in messages:\n",
    "        print(message[\"text\"])\n",
    "except SlackApiError as e:\n",
    "    print(f\"Error fetching messages: {e.response['error']}\")"
   ]
  },
  {
   "cell_type": "code",
   "execution_count": 35,
   "id": "ba39ca9c-9924-48ef-9bc6-7a1d4fee7676",
   "metadata": {},
   "outputs": [],
   "source": [
    "text_to_summarize = \" \".join([message[\"text\"] for message in messages])"
   ]
  },
  {
   "cell_type": "code",
   "execution_count": 37,
   "id": "85e73b36-d174-4a6f-a52d-b1fe7a98399b",
   "metadata": {},
   "outputs": [
    {
     "name": "stdout",
     "output_type": "stream",
     "text": [
      "Here's what happened in the last hour:\n",
      "<think>\n",
      "Okay, so I'm trying to understand what happened in this Slack conversation. The user provided\n"
     ]
    }
   ],
   "source": [
    "try:\n",
    "    # Custom prompt for the assistant\n",
    "    custom_prompt = f\"\"\"\n",
    "    You're an assistant to a busy employee who needs to understand what happened in a particular Slack workspace in the past hour. \n",
    "    Summarize what was talked about in the messages: {text_to_summarize}\n",
    "    \"\"\"\n",
    "    \n",
    "    # Generate the final response\n",
    "    result = pipe([{\"role\": \"user\", \"content\": custom_prompt}])\n",
    "    assistant_response = result[0]['generated_text'][1]['content']\n",
    "    final_response = re.sub(r\"<think>.*?</think>\", \"\", assistant_response, flags=re.DOTALL).strip()\n",
    "    print(\"Here's what happened in the last hour:\")\n",
    "    print(final_response)\n",
    "except Exception as e:\n",
    "    print(f\"Error generating final response with DeepSeek R1 model: {e}\")"
   ]
  },
  {
   "cell_type": "code",
   "execution_count": null,
   "id": "dc9075be-7553-4b7b-babe-4f63310ef762",
   "metadata": {},
   "outputs": [],
   "source": [
    "try:\n",
    "    response = client.chat_postMessage(\n",
    "        channel=channel_id,\n",
    "        text=f\"Here's the summary of the last 200 messages:\\n{final_response}\"\n",
    "    )\n",
    "except SlackApiError as e:\n",
    "    print(f\"Error posting message: {e.response['error']}\")"
   ]
  }
 ],
 "metadata": {
  "kernelspec": {
   "display_name": "Python 3 (ipykernel)",
   "language": "python",
   "name": "python3"
  },
  "language_info": {
   "codemirror_mode": {
    "name": "ipython",
    "version": 3
   },
   "file_extension": ".py",
   "mimetype": "text/x-python",
   "name": "python",
   "nbconvert_exporter": "python",
   "pygments_lexer": "ipython3",
   "version": "3.12.4"
  }
 },
 "nbformat": 4,
 "nbformat_minor": 5
}
